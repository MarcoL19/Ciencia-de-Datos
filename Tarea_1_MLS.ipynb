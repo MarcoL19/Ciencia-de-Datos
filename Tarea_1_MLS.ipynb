{
  "cells": [
    {
      "cell_type": "markdown",
      "metadata": {
        "id": "mcjFfhIf8YgP"
      },
      "source": [
        "# Tarea 1: Repaso de los conceptos básicos de Python"
      ]
    },
    {
      "attachments": {},
      "cell_type": "markdown",
      "metadata": {
        "id": "W03gNdmK8fK3"
      },
      "source": [
        "## Ciencia de datos para físicos: Facultad de ciencias, UNAM\n",
        "\n",
        "## Profesores: Karen Rubí Jiménez-López, Pedro Arturo Flores-Silva\n",
        "\n",
        "## Alumno: Marco Loreto Silva.\n",
        "\n",
        "**Instrucciones:** Este notebook contiene una serie de ejercicios que deben ser resueltos. Cada ejercicio se encuentra en una celda, ya sea de código o Markdown. Debes crear una o dos celdas debajo de cada ejercicio con tu(s) respectiva(s) respuestas. No modifiques las celdas originales.\n",
        "\n",
        "Recuerda que para ejecutar el código de una celda, presionar Ctlr + Enter o bien el boton de play en el editor Jupyter notebook.\n",
        "\n",
        "Cada ejercicio tendrá diferente valor, y se indicará en la celda de éste. La calificación final será la suma de los puntos obtenidos en cada ejercicio. Se calificará considerando la calidad de la respuesta, la claridad de la explicación y la correctitud del código. Por ejemplo, si el código no ejecuta la respuesta correcta pero se da una idea textual, se demuestra que hay comprensión del problema y el código hace sentido para el revisor, se otorgará una calificación parcial. Esto es, las respuestas no solo se evaluarán como bien o mal, sino que se considerará el esfuerzo.\n",
        "\n",
        "El codigo que realices debes comentarlo donde creas necesario, no vale no hacer ningún comentario. Recuerda que los comentarios son importantes para que el código sea legible y entendible, éstos se agregan con el símbolo #. Para las funciones y/o clases que crees, agrega la documentación correspondiente (docstring), éste se agrega con \"\"\" docstring \"\"\"."
      ]
    },
    {
      "cell_type": "markdown",
      "metadata": {
        "id": "-wP0Q3zC80NZ"
      },
      "source": [
        "## Ejercicio 1 (1 punto):\n",
        "\n",
        "En una celda Markdown contesta:\n",
        "\n",
        "\n",
        "*   ¿Qué es una palabra reservada en python? Enlista 5 ejemplos de nombres reservados en python y describe su función\n",
        "\n",
        "*   Coloca tres ejemplos de nombres de variables que no son válidos en python. Explica por qué no son válidos.\n"
      ]
    },
    {
      "cell_type": "markdown",
      "metadata": {
        "id": "dv-WBKECUw7B"
      },
      "source": [
        "## Respuesta:"
      ]
    },
    {
      "cell_type": "markdown",
      "metadata": {
        "id": "zllH83EHRN3K"
      },
      "source": [
        "Una palabra reservadas en Python es aquella que tienen un significado especial en el lenguaje y que no pueden ser utilizadas como identificadores, ya sea los nombres de variables, funciones, etc. Algunos ejemlos de estas son:\n",
        "\n",
        "*   \"if\": se utiliza para definir una condición que se evalúa como verdadera o falsa, y ejecutar diferentes bloques de código en función de dicha condición.\n",
        "\n",
        "*   \"else\": se utiliza junto con un if para definir un bloque de código que se ejecuta cuando la condición del if no se cumple.\n",
        "\n",
        "*   \"for\": se utiliza para crear un bucle que itera sobre una secuencia.\n",
        "\n",
        "*  \"def\": se utiliza para definir una función en Python.\n",
        "\n",
        "*  \"return\": se utiliza dentro de una función para devolver un valor y salir de la función."
      ]
    },
    {
      "cell_type": "markdown",
      "metadata": {
        "id": "GO6dttRGBux3"
      },
      "source": [
        "Ahora los tres ejemplos de nombres de vaiables que no son validos en python:\n",
        "\n",
        "\n",
        "* mi variable: este nombre no es válido porque contiene un espacio en blanco y los nombres de variables no pueden contener espacios en blanco.\n",
        "\n",
        "* 0mivariable: este nombre de variable no es válido porque comienza con un número y en Python, los nombres de variables deben comenzar con una letra o un guión bajo, no pueden empezar con un número.\n",
        "\n",
        "* mi-variable: este no es válido porque utiliza un guión medio y en Python, solo se permite el uso de guiones bajos para separar las palabras dentro de un nombre de variable."
      ]
    },
    {
      "cell_type": "markdown",
      "metadata": {
        "id": "SMEAkmyERY67"
      },
      "source": [
        "## Ejercicio 2 (1punto)\n",
        "\n",
        "\n",
        "En una celda de código, escribe una función que encuentre las raíces de cualquier polinomio de segundo grado (implementar la chicharronera). En una celda markdown detalla posibles casos en la cual la función podría fallar. Usa dicha función para encontrar las raíces del polinomio $f(x) = 10 x^2 -2x$\n",
        " e imprimelas en pantalla."
      ]
    },
    {
      "cell_type": "markdown",
      "metadata": {
        "id": "WhL4RdHyPka8"
      },
      "source": [
        "## Respuesta:"
      ]
    },
    {
      "cell_type": "code",
      "execution_count": null,
      "metadata": {
        "colab": {
          "base_uri": "https://localhost:8080/"
        },
        "id": "5N0-JrhYPLL2",
        "outputId": "96e78d74-c77e-4321-e8c2-5bc30e9dec64"
      },
      "outputs": [
        {
          "name": "stdout",
          "output_type": "stream",
          "text": [
            "Por favor inserte el coeficnete a: 10\n",
            "Por favor inserte el coeficnete b: -2\n",
            "Por favor inserte el coeficnete c: 0\n",
            "Las raices son:\n",
            "x1:  0.2\n",
            "x2:  0.0\n"
          ]
        }
      ],
      "source": [
        "def chicharronera():        #Función chicharronera que calcula las raices de un polinomion de segundo grado\n",
        "\n",
        "  print(\"Por favor inserte los coeficientes de la ecuación cuadrática \")\t\t#Imprime el mensaje\n",
        "\n",
        "a=float(input(\"Por favor inserte el coeficnete a: \"))   #Preguntamos los coeficientes y guardamos\n",
        "b=float(input(\"Por favor inserte el coeficnete b: \"))\t\t#los valores en las variables a, b y c\n",
        "c=float(input(\"Por favor inserte el coeficnete c: \"))\t\t#a la vez que los hacemos tipo flotantes\n",
        "\n",
        "#Comenzamos a analizar los casos, para ver si tiene raices, y si son del tipo reales o imaginarias\n",
        "\n",
        "if a==0:\t\t\t#If donde analizamos los casos donde a==0\n",
        "\n",
        "\tif b==0:\t\t\t#Si b==0, pasa lo siguiente\n",
        "\t\t\t\n",
        "\t\tprint(\"No hay solución\")\t\t#Imprime el mensaje\n",
        "\n",
        "\telse:\t\t\t#En cualquier otro caso pasa lo siguiente\n",
        "\n",
        "\t\tx= (-c)/b \t\t\t\t#Calculamos la raíz\n",
        "\n",
        "\t\tprint(\"La ecuación es lineal y la raíz es: \", x)\t\t#Imprime el mensaje y x\n",
        "\n",
        "#Si el coeficiente 'a' no es cero, hacemos lo siguiente\n",
        "\n",
        "else:\t\t\t\t#Cualquier otro caso pasa lo siguiente\n",
        "\n",
        "\n",
        "\t\tdiscr=((b**2.0)- 4.0*a*c)\t\t#Calculamos el discriminante\n",
        "\n",
        "\n",
        "\t\tif discr==0:\t\t\t#Si el discriminante es cero, pasa lo siguiente\n",
        "\n",
        "\n",
        "\t\t\tx= (-b)/(2*a)           #Calculamos la raíz doble\n",
        "\n",
        "\n",
        "\t\t\tprint(\"La raiz es doble y es: \", x)\t\t#Imprime el mensaje y la raíz\n",
        "\t\n",
        "\n",
        "\t\tif discr>0:\t\t\t#Si el discriminante es mayor a cero, pasa lo siguiente\n",
        "\n",
        "\n",
        "\t\t\tx1= (-b+(discr**0.5))/(2*a)            #Calculamos la primera raíz\n",
        "\t\t\tx2= (-b-(discr**0.5))/(2*a)            #Calculamos la segunda raíz\n",
        "\n",
        "#Aqui termina el caso en que las raices son reales\n",
        "\n",
        "\t\t\tprint(\"Las raices son:\")\t\t#Imprime el mensaje\n",
        "\n",
        "\t\t\tprint(\"x1: \", x1)\t\t\t#Escribe el mensaje y la primera raiz\n",
        "\n",
        "\t\t\tprint(\"x2: \", x2)\t\t\t#Escribe el mensaje y la segunda raiz\n",
        "\n",
        "#Aqui se tiene el caso de raices imaginarias\n",
        "\n",
        "\t\tif discr<0:\t\t\t\t#El último caso donde el discriminate es menor a cero\n",
        "\n",
        "\n",
        "\t\t\td=complex(a)\t\t#Con la función complex reasiganmos los valores de los\n",
        "\t\t\te=complex(b)\t\t#coeficientes reales a las variables del tipo \n",
        "\t\t\tf=complex(c)\t\t#complejo en las variables d, e y f\n",
        "\t\n",
        "\n",
        "\t\t\tdiscr1=((e**2)-4*(d*f))\t\t\t#Calculamos el discriminate complejo\n",
        "\n",
        "\n",
        "\t\t\tx3=(-e+(discr1**0.5))/(2*d)           #Calculamos la primera raiz compleja\n",
        "\t\t\tx4=(-e-(discr1**0.5))/(2*d)           #Calculamos la segunda raiz compleja\n",
        " \n",
        "\t\t\t\t\n",
        "\t\t\tprint(\"No hay raíces reales\")\t\t#Imprime el mensaje \n",
        "\n",
        "\t\t\tprint(\"Las raices complejas son: \")\t\t#Imprime el mensaje\n",
        "\t\t\t\n",
        "\t\t\tprint(\"x1: \", x3)                      #Escribe el mensaje y la primera raiz compleja\n",
        "\n",
        "\t\t\tprint(\"x2: \", x4)                      #Escribe el mensaje y la segunda raiz compleja"
      ]
    },
    {
      "cell_type": "markdown",
      "metadata": {
        "id": "QUFYt555PrpD"
      },
      "source": [
        "Los posible errores donde la función falla, ocurren cuando no introduces un caracter que se pueda convertir a flotante, como una variable de tipo caracter."
      ]
    },
    {
      "cell_type": "markdown",
      "metadata": {
        "id": "z1L4qnL6T5WE"
      },
      "source": [
        "## Ejercicio 3 (1 punto):\n",
        "\n",
        "\n",
        "*Caida libre*: El gran Galileo Galilei subió la torre de Pisa para determinar el tiempo que tarda un objeto en caer desde una altura $H$\n",
        " al suelo. Para ello, colocó un objeto de masa $m = 100$\n",
        " kg en la torre y lo dejó caer. El tiempo que tardó en caer fue $t=0.05616667$\n",
        " minutos.\n",
        "\n",
        "Considerando que la aceleración de la gravedad es $g=9.8 \\frac{m}{s^{2}}$, escribe un programa que determine la altura de la torre de Pisa. El programa debe imprimir la altura en la pantalla.\n",
        "\n",
        "Recuerda que el movimiento de caída libre simplificado cumple la ecuación: $y(t) = H + vt - \\frac{1}{2} g t^2$."
      ]
    },
    {
      "cell_type": "markdown",
      "metadata": {
        "id": "qZ6laMYSCNie"
      },
      "source": [
        "## Respuesta:"
      ]
    },
    {
      "cell_type": "code",
      "execution_count": null,
      "metadata": {
        "colab": {
          "base_uri": "https://localhost:8080/"
        },
        "id": "fpUP7Ys1Wwlk",
        "outputId": "89d5dc84-dd37-4f2b-9207-635ea6627260"
      },
      "outputs": [
        {
          "name": "stdout",
          "output_type": "stream",
          "text": [
            "La altura de la torre de Pisa es: 55.64881660520021 m\n"
          ]
        }
      ],
      "source": [
        "##Programa para determinar la altura de la tore de Pisa\n",
        "\n",
        "#Comenzamos definiendo nuestras variables\n",
        "\n",
        "m = 100           #Masa del objeto\n",
        "t = 0.05616667    #Tiempo de caida\n",
        "g = 9.8           #Aceleración de la graverdad\n",
        "\n",
        "#Primero converminos a segundos el tiempo de caida:\n",
        "\n",
        "t1 = t * 60       #Variable que guarda el tiempo de caida en segundos\n",
        "\n",
        "\n",
        "#Con la ecuación y(t) = H + vt - \\frac{1}{2} g t^2, tenemos que la velocidad inical es\n",
        "#cero y al inicar a un tiempo 0, se reduce a:\n",
        "\n",
        "H = (.5)*g*(t1**2)      #Calculo de la altura\n",
        "\n",
        "\n",
        "print(\"La altura de la torre de Pisa es:\",H ,\"m\")     #Pedimos que se imprima el siguiente mensaje con el valor buscado\n"
      ]
    },
    {
      "cell_type": "markdown",
      "metadata": {
        "id": "Z37XJEOwZUao"
      },
      "source": [
        "Para este calculo, no fue necesario conocer la masa del objeto."
      ]
    },
    {
      "cell_type": "markdown",
      "metadata": {
        "id": "rE8SlxzyZmtg"
      },
      "source": [
        "## Ejercicio 4 (1 punto):\n",
        "\n",
        "Crea una lista de números enteros del 0 al 99 : $lista = [0,1, 2, 3, 4, ... , 95, 96, 97, 98, 99]$ (6 puntos menos si creas la lista manualmente).\n",
        "\n",
        "Escribe un programa que imprima en la pantalla una la lista que cumpla con las siguientes condiciones:\n",
        "\n",
        "\n",
        "\n",
        "*   Los ultimos 10 elementos: debe imprimir lo siguiente $[90, 91, 92, 93, 94, 95, 96, 97, 98, 99]$.\n",
        "*   Los primeros 11 elementos: debe imprimir lo siguiente $[0, 1, 2, 3, 4, 5, 6, 7, 8, 9, 10]$.\n",
        "*  La serie de elementos de la lista que están entre 60 y 75: debe imprimir lo siguiente $[60, 61, 62, 63, 64, 65, 66, 67, 68, 69, 70, 71, 72, 73, 74, 75]$.\n",
        "* El número 50: debe imprimir lo siguiente $50$.\n",
        "\n",
        "Debes aplicar el concepto de slicing para resolver este ejercicio (notación de puntos $[:]$).\n",
        "\n",
        "Puntos menos si se crean listas nuevas para cada caso y/o se seleccionan manualmente los valores.\n",
        "\n"
      ]
    },
    {
      "cell_type": "markdown",
      "metadata": {
        "id": "bYb7OUx7pJ2x"
      },
      "source": [
        "## Respuesta:"
      ]
    },
    {
      "cell_type": "code",
      "execution_count": null,
      "metadata": {
        "colab": {
          "base_uri": "https://localhost:8080/"
        },
        "id": "nvMea3G9Z5Ka",
        "outputId": "7acbec1d-9d05-459c-f5fa-0af23af92ecb"
      },
      "outputs": [
        {
          "name": "stdout",
          "output_type": "stream",
          "text": [
            "[0, 1, 2, 3, 4, 5, 6, 7, 8, 9, 10, 11, 12, 13, 14, 15, 16, 17, 18, 19, 20, 21, 22, 23, 24, 25, 26, 27, 28, 29, 30, 31, 32, 33, 34, 35, 36, 37, 38, 39, 40, 41, 42, 43, 44, 45, 46, 47, 48, 49, 50, 51, 52, 53, 54, 55, 56, 57, 58, 59, 60, 61, 62, 63, 64, 65, 66, 67, 68, 69, 70, 71, 72, 73, 74, 75, 76, 77, 78, 79, 80, 81, 82, 83, 84, 85, 86, 87, 88, 89, 90, 91, 92, 93, 94, 95, 96, 97, 98, 99]\n"
          ]
        }
      ],
      "source": [
        "#Creamos una lista de enteros del 0 al 99\n",
        "lista = list(range(0,100))"
      ]
    },
    {
      "cell_type": "code",
      "execution_count": null,
      "metadata": {
        "colab": {
          "base_uri": "https://localhost:8080/"
        },
        "id": "yhLzITPFaqEz",
        "outputId": "07b4fd1d-317b-46d0-ecf0-5e66b9e5f443"
      },
      "outputs": [
        {
          "name": "stdout",
          "output_type": "stream",
          "text": [
            "[90, 91, 92, 93, 94, 95, 96, 97, 98, 0, 1, 2, 3, 4, 5, 6, 7, 8, 9, 10, 60, 61, 62, 63, 64, 65, 66, 67, 68, 69, 70, 71, 72, 73, 74, 75, 50]\n"
          ]
        }
      ],
      "source": [
        "lista1 = lista[90:99] + lista[0:11] + lista[60:76:1]      #Creamos una lista con los primeros 3 slicing \n",
        "\n",
        "lista1.append(lista[50])                                  #Agregamos el último elemento a la lista\n",
        "\n",
        "print(lista1)                                             #Imprimimos la lista"
      ]
    },
    {
      "cell_type": "markdown",
      "metadata": {
        "id": "ZZZJcDUVpQx7"
      },
      "source": [
        "## Ejercicio 5 (1 punto):\n",
        "\n",
        "Crea una lista de números enteros del 0 al 1000. A partir de dicha lista:\n",
        "\n",
        "* Guarda en una variable una lista con los números pares usando ciclos y \n",
        "condicionales. Imprime los últimos 10 elementos de la lista final.\n",
        "* Guarda en una variable una lista con los números impares usando listas comprensivas (comprehension list). Imprime los primeros 10 elementos de la lista final.\n"
      ]
    },
    {
      "cell_type": "markdown",
      "metadata": {
        "id": "Bk-MFg8sqNKQ"
      },
      "source": [
        "## Respuesta:"
      ]
    },
    {
      "cell_type": "code",
      "execution_count": null,
      "metadata": {
        "id": "yXgvnJPkqPip"
      },
      "outputs": [],
      "source": [
        "lista0_1000 = list(range(0,1001))             #Creamos nuestra lista\n",
        "\n",
        "longitud = len(lista0_1000)                   #Definimos la longitud de la lista"
      ]
    },
    {
      "cell_type": "code",
      "execution_count": null,
      "metadata": {
        "id": "kaK3mvluqcTO"
      },
      "outputs": [],
      "source": [
        "lista0_1000_pares = []                        #Creamos una lista vacia para gusrdar nuestros resultados"
      ]
    },
    {
      "cell_type": "code",
      "execution_count": null,
      "metadata": {
        "colab": {
          "base_uri": "https://localhost:8080/"
        },
        "id": "9D3eqlAFqMGu",
        "outputId": "7bffd6b0-aef3-42e1-996f-d64b6f906fcb"
      },
      "outputs": [
        {
          "name": "stdout",
          "output_type": "stream",
          "text": [
            "[978, 980, 982, 984, 986, 988, 990, 992, 994, 996, 998, 1000]\n"
          ]
        }
      ],
      "source": [
        "#Usamos un ciclo for para seleccionar a los numeros pares de la lista\n",
        "for num in range(longitud):           #Va a iterar en el rango de la longitud de la lista original\n",
        "\n",
        "  if num%2 == 0:                      #Condición para saber si es un número par\n",
        "\n",
        "      lista0_1000_pares.append(num)   #Pedimos que lo guarde en la lista vacía\n",
        "\n",
        "\n",
        "print(lista0_1000_pares[990:])        #Imprime los últimos 10 valores"
      ]
    },
    {
      "cell_type": "code",
      "execution_count": null,
      "metadata": {
        "colab": {
          "base_uri": "https://localhost:8080/"
        },
        "id": "SJD477eXtmen",
        "outputId": "5bf229a6-e0ae-403e-b425-6cbc5c4d7d23"
      },
      "outputs": [
        {
          "name": "stdout",
          "output_type": "stream",
          "text": [
            "[1, 3, 5, 7, 9, 11, 13, 15, 17, 19, 21]\n"
          ]
        }
      ],
      "source": [
        "lista0_1000_impares = [num for num in lista0_1000 if num % 2 != 0]       #Usando una lista comprensiva, guarda los valores impares de la lista original\n",
        "\n",
        "print(lista0_1000_impares[:11])                                          #Pido que imprima los primeros 10 valores"
      ]
    },
    {
      "cell_type": "markdown",
      "metadata": {
        "id": "rhMLPql8xHAt"
      },
      "source": [
        "## Ejercicio 6 (2 puntos): Aproximación de $\\pi$ \n",
        "\n",
        "Una de las formas más sencillas de aproximar $\\pi$ es mediante la siguiente serie infinita de Leibniz:\n",
        "\n",
        "\\begin{align}\n",
        "\\frac{\\pi}{4} = \\sum_{n=0}^{\\infty} = \\frac{(-1)^{n}}{(2n+1)} = \\frac{1}{1}-\\frac{1}{3}+\\frac{1}{5}-\\frac{1}{7}+\\frac{1}{9}-...\n",
        "  \\end{align}\n",
        "\n",
        "  crea una función para aproximar $\\pi$ utilizando la serie de Leibniz. Usa $n=100000$ e imprime el valor de tu aproximación tanto el valor de $\\frac{\\pi}{4}$ como $\\pi$ .\n",
        "\n",
        "  El valor de $\\pi$ se obitne al despejar:\n",
        "\n",
        "\\begin{align}\n",
        "\\pi= 4 * \\left( \\sum_{n=0}^{\\infty}\\frac{(-1)^{n}}{(2n+1)}\\right)\n",
        "  \\end{align}\n",
        "\n",
        "La siguiente celda de codigo ofrece el valor de $\\frac{\\pi}{4}$"
      ]
    },
    {
      "cell_type": "code",
      "execution_count": null,
      "metadata": {
        "colab": {
          "base_uri": "https://localhost:8080/"
        },
        "id": "5ZYRxAaW0Ns8",
        "outputId": "f6bbf313-0778-476b-e14d-1a77987e0f18"
      },
      "outputs": [
        {
          "name": "stdout",
          "output_type": "stream",
          "text": [
            "El valor de pi/4 es aproximadamente 0.7853981633974483\n"
          ]
        }
      ],
      "source": [
        "import numpy as np\n",
        "#El valor de pi/4\n",
        "print(\"El valor de pi/4 es aproximadamente {}\".format(np.pi/4))"
      ]
    },
    {
      "cell_type": "markdown",
      "metadata": {
        "id": "M6ORBHH6AFl8"
      },
      "source": [
        "## Respuesta:"
      ]
    },
    {
      "cell_type": "code",
      "execution_count": null,
      "metadata": {
        "colab": {
          "base_uri": "https://localhost:8080/"
        },
        "id": "ymxw9cqbvwAg",
        "outputId": "52e97b7a-fdd7-4e44-834f-2b6ccde7c5ad"
      },
      "outputs": [
        {
          "name": "stdout",
          "output_type": "stream",
          "text": [
            "3.1415826535897198\n"
          ]
        }
      ],
      "source": [
        "def serie_leibniz(n):                         #Definimos la función \n",
        "\n",
        "    total = 0                                 #Definimos un valor inicial \n",
        "\n",
        "    for i in range(n):                        #Comenzamos con el ciclo for para \n",
        "                                              #la variable de i dentro del rango de n\n",
        "        signo = (-1) ** i                     #Variable que lleva el signo del termino             \n",
        "        termino = 1 / (2*i + 1)               #Valor del termino i\n",
        "        total += signo * termino              #Asi vamos asignando el valor de cada termino\n",
        "                                              #Y lo vamos sumando\n",
        "    return total                              #Pedimos que nos regrese el valor \n",
        "\n",
        "picuartos = serie_leibniz(100000)             #Guardamos el valor de pi cuartos llamando a la función \n",
        "                                              #con n=100000\n",
        "print(4*picuartos)                            #Iprimimos el valor de pi"
      ]
    },
    {
      "cell_type": "markdown",
      "metadata": {
        "id": "ZHJ-m3YUBUe1"
      },
      "source": [
        "## Ejercicio 7 (1 puntos): Identificador de vocales\n",
        "\n",
        "Escribe una función que reciba una cadena, por ejemplo 'el pErro de la tiA chOnita' y regrese la cantidad de vocales que contiene. La función debe contener varios casos de prueba, if, elif y else. Con la cadena de ejemplo, imprime en pantalla el resultado de la función (10).\n",
        "\n",
        "Para conocer si un caracter es una vocal, primero debes descomponer la cadena en caracteres individuales. Para ello observa el siguiente código:"
      ]
    },
    {
      "cell_type": "code",
      "execution_count": null,
      "metadata": {
        "colab": {
          "base_uri": "https://localhost:8080/"
        },
        "id": "jyKQK6XzBbpa",
        "outputId": "bb79ffa0-ce5a-46f5-8fd9-f52762f863d7"
      },
      "outputs": [
        {
          "name": "stdout",
          "output_type": "stream",
          "text": [
            "['e', 'l', ' ', 'p', 'E', 'r', 'r', 'o', ' ', 'd', 'e', ' ', 'l', 'a', ' ', 't', 'i', 'A', ' ', 'c', 'h', 'O', 'n', 'i', 't', 'a']\n"
          ]
        }
      ],
      "source": [
        "# Divide una cadena en caracteres individuales\n",
        "cadena_prueba = 'el pErro de la tiA chOnita'\n",
        "caracteres_individuales = list(cadena_prueba)\n",
        "print(caracteres_individuales)"
      ]
    },
    {
      "cell_type": "markdown",
      "metadata": {
        "id": "j4cBtgHVdJ2H"
      },
      "source": [
        "## Respuesta:"
      ]
    },
    {
      "cell_type": "code",
      "execution_count": null,
      "metadata": {
        "id": "qlFA3nCzWdVb"
      },
      "outputs": [],
      "source": [
        "def cuenta_vocales(nombre_lista):                     #Comenzamos con la definición de la función\n",
        "\n",
        "  numero = 0                                          #Asignamos una variable local de nombre numero y valor cero\n",
        "  vocales_minusculas = 'aeiou'                        #Grupo que contiene las vocales minusculas\n",
        "  vocales_mayusculas = 'AEIOU'                        #Grupo que contiene las vocales mayúsculas\n",
        "\n",
        "  for letra in nombre_lista:                          #Hacemos un ciclo que recorrá la cadena con la variable \"letra\"\n",
        "\n",
        "    if letra in vocales_minusculas:                   #Analizamos el primer caso, en minusculas\n",
        "\n",
        "      numero = numero +1                              #Aumentamos el contador en una unidad\n",
        "    \n",
        "    elif letra in vocales_mayusculas:                 #Analizamos el caso en que el caracter pertenezca a las vocales mayúsculas\n",
        "\n",
        "      numero = numero +1                              #Aumentamos el contador en una unidad\n",
        "\n",
        "    else:\n",
        "\n",
        "      pass                                            #En cualquier otro caso, pasa\n",
        "\n",
        "  print(\"El número de vocales es: \", numero)          #Imprime el mensaje con el número de vocales"
      ]
    },
    {
      "cell_type": "code",
      "execution_count": null,
      "metadata": {
        "colab": {
          "base_uri": "https://localhost:8080/"
        },
        "id": "x-kL7rKDfnFB",
        "outputId": "2b923622-e622-4ad1-9304-16f93545d478"
      },
      "outputs": [
        {
          "name": "stdout",
          "output_type": "stream",
          "text": [
            "El número de vocales es:  10\n"
          ]
        }
      ],
      "source": [
        "cuenta_vocales(cadena_prueba)"
      ]
    },
    {
      "cell_type": "markdown",
      "metadata": {
        "id": "F6zni5BSI8qj"
      },
      "source": [
        "## Ejercicio 8 (2 puntos):\n",
        "\n",
        "Escribe una clase \"calculadora\" que regrese el resultado de las operaciones de suma, resta, multiplicacion, division, modulo y potencia. La clase debe contener un método para cada operación.\n",
        "\n",
        "Los métodos que pudiesen presentar errores como division entre cero, deben ser manejados de tal manera que el programa no imprima ningun error (vimos una clausula para hacer esto).\n",
        "\n",
        "Adicional a esto, los métodos modulo y potencia deben ser generales, es decir, deben funcionar para cualquier número entero positivo (es un parámetro extra del método). Por ejemplo, la potencia de 2 elevado a 3 es 8, la potencia de 5 elevado a 3 es 125, etc.\n",
        "\n",
        "Crea una instancia de la clase calculadora y prueba cada uno de los métodos, con valores de tu elección. Para los métodos que pudiesen presentar errores da dos ejemplos, uno totalmente funcional (3/5 por ejemplo) y otro que sea conflictivo pero que no regresa ningún error (4/0 por ejemplo)."
      ]
    },
    {
      "cell_type": "markdown",
      "metadata": {
        "id": "BMRceB4urgUg"
      },
      "source": [
        "## Respuesta:"
      ]
    },
    {
      "cell_type": "code",
      "execution_count": 46,
      "metadata": {
        "id": "8gTEslh8rihH"
      },
      "outputs": [],
      "source": [
        "class Calculadora():                        #Definimos la clase de la claculadora\n",
        "\n",
        "    def __init__(self, marca, modelo):      #Método de inicio para determinar la marca y modelo\n",
        "\n",
        "        self.marca = marca                  #Pedimos la marca\n",
        "        self.modelo = modelo                #Pedimos el modelo\n",
        "\n",
        "    def suma(self, a, b):                   #Método de la suma\n",
        "\n",
        "        return a+b                          #Operación suma\n",
        "\n",
        "    def resta(self, a, b):                  #Método resta\n",
        "\n",
        "        return a-b                          #Operación resta\n",
        "    \n",
        "    def producto(self, a,b):                #Método producto\n",
        "\n",
        "        return a*b                          #Operación producto \n",
        "\n",
        "    def division(self, a, b):               #Método división\n",
        "\n",
        "        if b==0:                            #Sentencia en la que no se puede hacer división\n",
        "\n",
        "          return \"No se puede dividir entre cero\"       #Regresa el mensaje\n",
        "\n",
        "        else:                               #En otro caso\n",
        "\n",
        "          return a/b                        #Operación división\n",
        "\n",
        "    def potencia(self, a, b):               #Método potencia\n",
        "\n",
        "      return a**b                           #Operación potencia\n",
        "\n",
        "    def modulo(self, a, b):                 #Método modulo\n",
        "\n",
        "      return a%b                            #Operación modulo"
      ]
    },
    {
      "cell_type": "code",
      "execution_count": 47,
      "metadata": {
        "id": "b-QExb2aXEZA"
      },
      "outputs": [],
      "source": [
        "casio = Calculadora('casio', 'xxc')"
      ]
    },
    {
      "cell_type": "code",
      "execution_count": 57,
      "metadata": {
        "colab": {
          "base_uri": "https://localhost:8080/"
        },
        "id": "ygEZi_FAw-Gc",
        "outputId": "efc0b25f-925f-4e18-fb5d-9a7e1591a79f"
      },
      "outputs": [
        {
          "data": {
            "text/plain": [
              "5"
            ]
          },
          "execution_count": 57,
          "metadata": {},
          "output_type": "execute_result"
        }
      ],
      "source": [
        "casio.suma(3,2)"
      ]
    },
    {
      "cell_type": "code",
      "execution_count": 58,
      "metadata": {
        "colab": {
          "base_uri": "https://localhost:8080/"
        },
        "id": "2DOhSMM_XNXW",
        "outputId": "f8b73f1c-1526-4763-dccf-0cd334b66215"
      },
      "outputs": [
        {
          "data": {
            "text/plain": [
              "1"
            ]
          },
          "execution_count": 58,
          "metadata": {},
          "output_type": "execute_result"
        }
      ],
      "source": [
        "casio.resta(3,2)"
      ]
    },
    {
      "cell_type": "code",
      "execution_count": 59,
      "metadata": {
        "colab": {
          "base_uri": "https://localhost:8080/"
        },
        "id": "LC8WModBU3uz",
        "outputId": "6a77ac29-17cd-4eba-d106-2d864600a932"
      },
      "outputs": [
        {
          "data": {
            "text/plain": [
              "6"
            ]
          },
          "execution_count": 59,
          "metadata": {},
          "output_type": "execute_result"
        }
      ],
      "source": [
        "casio.producto(3,2)"
      ]
    },
    {
      "cell_type": "code",
      "execution_count": 60,
      "metadata": {
        "colab": {
          "base_uri": "https://localhost:8080/"
        },
        "id": "K6-GaJDQXYdw",
        "outputId": "8a10b505-d89f-4372-8c81-bd3235e0a05f"
      },
      "outputs": [
        {
          "data": {
            "text/plain": [
              "1.5"
            ]
          },
          "execution_count": 60,
          "metadata": {},
          "output_type": "execute_result"
        }
      ],
      "source": [
        "casio.division(3,2)"
      ]
    },
    {
      "cell_type": "code",
      "execution_count": 61,
      "metadata": {
        "colab": {
          "base_uri": "https://localhost:8080/",
          "height": 35
        },
        "id": "cDFW1ObGRCaM",
        "outputId": "b00d4eab-9e77-4e4b-f7fc-dee57ec8f001"
      },
      "outputs": [
        {
          "data": {
            "application/vnd.google.colaboratory.intrinsic+json": {
              "type": "string"
            },
            "text/plain": [
              "'No se puede dividir entre cero'"
            ]
          },
          "execution_count": 61,
          "metadata": {},
          "output_type": "execute_result"
        }
      ],
      "source": [
        "casio.division(3,0)"
      ]
    },
    {
      "cell_type": "code",
      "execution_count": 55,
      "metadata": {
        "colab": {
          "base_uri": "https://localhost:8080/"
        },
        "id": "CV-vpgQVXhed",
        "outputId": "688b6d1e-c7c1-4ff3-b3c6-8a7238cca1ef"
      },
      "outputs": [
        {
          "data": {
            "text/plain": [
              "9"
            ]
          },
          "execution_count": 55,
          "metadata": {},
          "output_type": "execute_result"
        }
      ],
      "source": [
        "casio.potencia(3,2)"
      ]
    },
    {
      "cell_type": "code",
      "execution_count": 56,
      "metadata": {
        "colab": {
          "base_uri": "https://localhost:8080/"
        },
        "id": "BUVysMLqxA1J",
        "outputId": "b9a23cf1-af80-47e7-d412-443f2b942c04"
      },
      "outputs": [
        {
          "data": {
            "text/plain": [
              "1"
            ]
          },
          "execution_count": 56,
          "metadata": {},
          "output_type": "execute_result"
        }
      ],
      "source": [
        "casio.modulo(3,2)"
      ]
    },
    {
      "cell_type": "markdown",
      "metadata": {
        "id": "Tmjmj3AvgSMz"
      },
      "source": [
        "## Ejercicio de puntos extras opcional (1 punto):\n",
        "\n",
        "Supóngamos que tenemos una lista de números enteros y queremos encontrar el número más grande. Por ejemplo, si la lista es $[1, 2, 3, 4, 5]$ el número más grande es 5. Crea una función que encuentre el número más grande en una lista de números. La función debe regresar el número más grande y el índice en el que se encuentra. Prueba la función con una lista de números de tu elección."
      ]
    },
    {
      "cell_type": "markdown",
      "metadata": {
        "id": "ZR87FirSiDZD"
      },
      "source": [
        "## Respuesta:"
      ]
    },
    {
      "cell_type": "code",
      "execution_count": null,
      "metadata": {
        "colab": {
          "base_uri": "https://localhost:8080/"
        },
        "id": "PuiWeeRIgZb0",
        "outputId": "e4b055bc-611e-47e0-d4e7-63d210fc303c"
      },
      "outputs": [
        {
          "name": "stdout",
          "output_type": "stream",
          "text": [
            "10\n"
          ]
        }
      ],
      "source": [
        "lista_r = [8, 2, 10, 4, 5]         #Creamos una lista desordenada \n",
        "lista_o = sorted(lista_r)          #Ordenamos la lista, de menor a mayor\n",
        "\n",
        "print(lista_o[-1])                 #Pedimos el último valor, el cual es el más grande"
      ]
    },
    {
      "cell_type": "markdown",
      "metadata": {
        "id": "6rQEHO0FiHJR"
      },
      "source": [
        "## Ejercicio de puntos extras opcional (3 puntos):\n",
        "\n",
        "Supóngamos que tenemos un dado convencional de 6 caras. Crea una función que simule el lanzamiento de un dado. La función debe regresar un número aleatorio entre 1 y 6.\n",
        "\n",
        "Sabemos que la probabilidad de que salga un número es de $\\frac{1}{6}$ es decir, la probabilidad de que salga un 1 es de $\\frac{1}{6}$, la probabilidad de que salga un 2 es de $\\frac{1}{6}$, etc.\n",
        "\n",
        "* Prueba la función con 6 lanzamientos, en una celda markdown explica porqué el resultado es dificilmente $[1, 2, 3, 4, 5, 6]$.\n",
        "\n",
        "* Prueba la función con 1000 lanzamientos, crea una grafica de barras de los resultados (investiga como puedes graficar los resultados en una grafica de barras) y explica a que distribucion se parece y porqué es así.\n",
        "\n",
        "Hint: Para crear los números aleatorios, puedes usar la función $random.randint()$. O bien, usar el modulo numpy para crearlos. Para graficar los resultados, puedes usar la libreria matplotlib, seaborn, plotly o cualquiera que se te haga más fácil."
      ]
    },
    {
      "cell_type": "markdown",
      "metadata": {
        "id": "toVUpeXYLiOT"
      },
      "source": [
        "## Respuesta:"
      ]
    },
    {
      "cell_type": "code",
      "execution_count": 13,
      "metadata": {
        "id": "XiMkKdRxi1cw"
      },
      "outputs": [],
      "source": [
        "import random as ran\n",
        "import numpy as np                      #Importamos las librerias necesarias\n",
        "import matplotlib.pyplot as plt\n",
        "\n",
        "tiradas_dado = []                      #Creamos una lista vacía\n",
        "\n",
        "def dado(n):                            #Definimos la función dado\n",
        "\n",
        "  tiradas_dado.clear()                 #Pedios que la lista se limpie\n",
        "\n",
        "  for num in range(n):                  #Con n el número de tiradas se especifican las tiradas\n",
        "\n",
        "    num = ran.randint(1, 6)             #Realizamos una tirada y la guardamos en la variable num\n",
        "\n",
        "    tiradas_dado.append(num)           #Guardamos cada tirada en la lista\n",
        "\n"
      ]
    },
    {
      "cell_type": "code",
      "execution_count": 17,
      "metadata": {
        "id": "rgxYrSDAmICI"
      },
      "outputs": [],
      "source": [
        "dado(1000)                #Hacemos 1000 tiradas"
      ]
    },
    {
      "cell_type": "code",
      "execution_count": 18,
      "metadata": {
        "colab": {
          "base_uri": "https://localhost:8080/"
        },
        "id": "841gOpwLrdbn",
        "outputId": "6c418dd8-1713-4964-b91f-3f0a418ff16b"
      },
      "outputs": [
        {
          "name": "stdout",
          "output_type": "stream",
          "text": [
            "{2: 173, 3: 166, 6: 174, 5: 169, 4: 167, 1: 151}\n"
          ]
        }
      ],
      "source": [
        "def conteo(a):          #Definimos función para contar los valores del 1 al 6\n",
        "\n",
        "  dic = {}              #Creamos un diccionario vacio\n",
        "\n",
        "  for i in a:           #Loop para crear el diccionario\n",
        "\n",
        "    if i in dic:        #Para cada valor de la lista\n",
        "\n",
        "      dic[i] +=1        #Suma un valor al value\n",
        "\n",
        "    else:               #En otro caso, coloca un uno\n",
        "\n",
        "      dic[i] =1   \n",
        "\n",
        "  return dic            #Regresa el diccionario\n",
        "\n",
        "graf = conteo(tiradas_dado)         #Guarda el diccionario en la variable graf\n",
        "\n",
        "print(graf)             #Imprime el diccionario"
      ]
    },
    {
      "cell_type": "code",
      "execution_count": 19,
      "metadata": {
        "colab": {
          "base_uri": "https://localhost:8080/",
          "height": 279
        },
        "id": "HOcpU3p-w7Y5",
        "outputId": "548fa72f-d195-4195-fa14-5151066d1c0c"
      },
      "outputs": [
        {
          "data": {
            "image/png": "[encoded data removed]",
            "text/plain": [
              "<Figure size 432x288 with 1 Axes>"
            ]
          },
          "metadata": {
            "needs_background": "light"
          },
          "output_type": "display_data"
        }
      ],
      "source": [
        "graf1 =dict(sorted(graf.items()))       #Ordenamos el diccionario\n",
        "\n",
        "nombres = list(graf1.keys())              #Guardamos los numeros en nombres\n",
        "valores = list(graf1.values())            #Guardamos los valores en valores\n",
        "\n",
        "plt.bar(range(len(graf1)), valores, tick_label=nombres)     #Graficamos\n",
        "plt.xlabel(\"Caras del dado\")                                #Ponemos nombre a los ejes\n",
        "plt.ylabel(\"Número de aparaiciones\")\n",
        "plt.show()"
      ]
    },
    {
      "cell_type": "markdown",
      "metadata": {
        "id": "DqARcuVFt3fk"
      },
      "source": [
        "Después de tirar un dado 1000 veces, la distribución de los resultados esperados es uniforme, ya que cada número del 1 al 6 tiene una probabilidad de 1/6 de aparecer en cualquier tirada. Esto se debe a que el resultado de cada tirada es independiente del resultado anterior y las probabilidades permanecen constantes."
      ]
    }
  ],
  "metadata": {
    "colab": {
      "collapsed_sections": [
        "dv-WBKECUw7B",
        "WhL4RdHyPka8",
        "qZ6laMYSCNie",
        "bYb7OUx7pJ2x",
        "Bk-MFg8sqNKQ"
      ],
      "provenance": []
    },
    "kernelspec": {
      "display_name": "Python 3",
      "language": "python",
      "name": "python3"
    },
    "language_info": {
      "name": "python",
      "version": "3.9.7"
    },
    "vscode": {
      "interpreter": {
        "hash": "aee8b7b246df8f9039afb4144a1f6fd8d2ca17a180786b69acc140d282b71a49"
      }
    }
  },
  "nbformat": 4,
  "nbformat_minor": 0
}
